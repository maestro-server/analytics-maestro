{
 "cells": [
  {
   "cell_type": "code",
   "execution_count": 2,
   "metadata": {},
   "outputs": [],
   "source": [
    "import networkx as nx\n",
    "import requests\n",
    "import json\n",
    "import matplotlib.pyplot as plt\n",
    "\n",
    "url = '10.168.20.20:5010'"
   ]
  },
  {
   "cell_type": "code",
   "execution_count": 230,
   "metadata": {},
   "outputs": [
    {
     "name": "stdout",
     "output_type": "stream",
     "text": [
      "{'items': [{'deps': [{'endpoint': 'rest', 'name': 'app1', '_id': '5b293cff5ec68b1828d5fa7d', 'family': 'Application'}], 'name': 'app2', 'nodes': [{'deps': [{'endpoint': 'rest', 'name': 'Db - mysql', '_id': '5b3d1a70d7f17a0025e48d32', 'family': 'Database'}], 'name': 'app4', 'steps': 1}, {'name': 'Db - mysql', 'steps': 1}, {'name': 'broker', 'steps': 1}, {'deps': [{'endpoint': 'rest', 'name': 'broker', '_id': '5b29836b3dee72509767a790', 'family': 'Broker'}, {'endpoint': 'rest', 'name': 'Db - mysql', '_id': '5b3d1a70d7f17a0025e48d32', 'family': 'Database'}, {'endpoint': 'rest', 'name': 'app4', '_id': '5b3d1b0ed7f17a0025e48d33', 'family': 'Application'}], 'name': 'app1', 'steps': 0}], '_id': '5b293d045ec68b1828d5fa7e'}, {'deps': [{'endpoint': 'rest', 'name': 'Db - mysql', '_id': '5b3d1a70d7f17a0025e48d32', 'family': 'Database'}], 'name': 'app5', 'nodes': [{'name': 'Db - mysql', 'steps': 0}], '_id': '5b3d1b4fd7f17a0025e48d34'}]}\n"
     ]
    }
   ],
   "source": [
    "pipeline = [\n",
    "    {'$match': {'name': {'$in': ['app2', 'app5']}, 'roles._id': '5afdb8cf93beb10025c13f4f'}},\n",
    "    {\n",
    "        '$graphLookup': {\n",
    "            'from': 'applications',\n",
    "            'startWith': '$deps._id',\n",
    "            'connectFromField': 'deps._id',\n",
    "            'connectToField': '_id',\n",
    "            'as': 'nodes',\n",
    "            'maxDepth': 10,\n",
    "            'depthField': 'steps'\n",
    "        }\n",
    "    },\n",
    "    {'$project': {'name': 1, 'deps': 1, 'deps': 1, 'nodes.name': 1, 'nodes.steps': 1, 'nodes.deps': 1}}\n",
    "];\n",
    "\n",
    "jpipeline = json.dumps(pipeline)\n",
    "\n",
    "data = requests.post('http://%s/aggregate' % url, json={'entity': 'applications', 'pipeline': jpipeline})\n",
    "data = data.json()\n",
    "print(data)"
   ]
  },
  {
   "cell_type": "code",
   "execution_count": 262,
   "metadata": {},
   "outputs": [
    {
     "data": {
      "text/plain": [
       "<networkx.classes.digraph.DiGraph at 0x7f397aee29e8>"
      ]
     },
     "execution_count": 262,
     "metadata": {},
     "output_type": "execute_result"
    }
   ],
   "source": [
    "class InfraNetwork(object):\n",
    "    def __init__(self, G=nx.DiGraph):\n",
    "        self.graph = G()\n",
    "\n",
    "    def create_edge(self, parent, item):\n",
    "        if 'deps' in parent:\n",
    "            for dps in parent['deps']:\n",
    "                w = item.get('steps', -1)\n",
    "                self.graph.add_edge(item['name'], dps['name'], weight=w+1)\n",
    "\n",
    "    def create_node(self, item):\n",
    "        self.graph.add_node(item['name'], object=item)\n",
    "\n",
    "    def make(self, data):\n",
    "        for item in data:\n",
    "            self.create_node(item)\n",
    "            self.create_edge(item, item)\n",
    "\n",
    "            for sub in item['nodes']:\n",
    "                self.create_node(sub)\n",
    "                self.create_edge(sub, sub)\n",
    "\n",
    "        return self\n",
    "\n",
    "    def get_graph(self):\n",
    "        return self.graph\n",
    "\n",
    "    \n",
    "class DrawNetwork(object):\n",
    "\n",
    "    def __init__(self, G):\n",
    "        self.graph = G\n",
    "        \n",
    "    def get_cardials(self):\n",
    "        return nx.circular_layout(self.graph)\n",
    "    \n",
    "    \n",
    "    def save_svg(self, options, labels):\n",
    "        #plt.figure(figsize=(4, 4))\n",
    "        pos = self.get_cardials()\n",
    "\n",
    "        nx.draw(self.graph, pos, **options)\n",
    "\n",
    "        labels = nx.get_edge_attributes(self.graph,'weight')\n",
    "        nx.draw_networkx_edge_labels(self.graph,pos,edge_labels=labels)\n",
    "\n",
    "        plt.axis('equal')\n",
    "        plt.show()\n",
    "        return pos\n",
    "\n",
    "network = InfraNetwork()\n",
    "network.make(data.get('items')).get_graph()"
   ]
  },
  {
   "cell_type": "code",
   "execution_count": 263,
   "metadata": {},
   "outputs": [
    {
     "data": {
      "image/png": "[encoded data removed]",
      "text/plain": [
       "<Figure size 432x288 with 1 Axes>"
      ]
     },
     "metadata": {},
     "output_type": "display_data"
    },
    {
     "name": "stdout",
     "output_type": "stream",
     "text": [
      "{'app1': array([1.00000000e+00, 2.45045699e-08]), 'app2': array([0.49999998, 0.86602546]), 'app4': array([-0.50000004,  0.8660254 ]), 'broker': array([-9.99999970e-01, -6.29182054e-08]), 'Db - mysql': array([-0.49999989, -0.86602541]), 'app5': array([ 0.49999992, -0.86602541])}\n"
     ]
    }
   ],
   "source": [
    "options = {\n",
    "    'with_labels': True,\n",
    "    'arrowsize': 15,\n",
    "    'node_shape': 's',\n",
    "    'node_size': 500,\n",
    "    'node_color': '#782675',\n",
    "    'font_color': 'white',\n",
    "    'alpha': 0.9,\n",
    "    'linewidths': 5\n",
    "}\n",
    "\n",
    "labels = {\n",
    "    'font_weight': 'bold'\n",
    "}\n",
    "\n",
    "draw = DrawNetwork(network.graph)\n",
    "draw.save_svg(options, labels)\n",
    "\n",
    "print(draw.get_cardials())"
   ]
  },
  {
   "cell_type": "code",
   "execution_count": 271,
   "metadata": {},
   "outputs": [
    {
     "data": {
      "text/plain": [
       "['broker', 'Db - mysql', 'app4']"
      ]
     },
     "execution_count": 271,
     "metadata": {},
     "output_type": "execute_result"
    }
   ],
   "source": [
    "list(network.graph.neighbors('app1'))"
   ]
  }
 ],
 "metadata": {
  "kernelspec": {
   "display_name": "an",
   "language": "python",
   "name": "an"
  },
  "language_info": {
   "codemirror_mode": {
    "name": "ipython",
    "version": 3
   },
   "file_extension": ".py",
   "mimetype": "text/x-python",
   "name": "python",
   "nbconvert_exporter": "python",
   "pygments_lexer": "ipython3",
   "version": "3.5.2"
  }
 },
 "nbformat": 4,
 "nbformat_minor": 2
}
