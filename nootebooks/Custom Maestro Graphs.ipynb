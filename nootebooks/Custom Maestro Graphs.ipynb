{
 "cells": [
  {
   "cell_type": "code",
   "execution_count": 18,
   "metadata": {},
   "outputs": [],
   "source": [
    "import networkx as nx\n",
    "import requests\n",
    "import json\n",
    "import matplotlib.pyplot as plt\n",
    "\n",
    "url = '10.168.20.20:5010'"
   ]
  },
  {
   "cell_type": "code",
   "execution_count": 19,
   "metadata": {},
   "outputs": [
    {
     "name": "stdout",
     "output_type": "stream",
     "text": [
      "{'items': [{'nodes': [{'name': 'app4', 'steps': 1, 'deps': [{'endpoint': 'rest', '_id': '5b3d1a70d7f17a0025e48d32', 'family': 'Database', 'name': 'Db - mysql'}]}, {'name': 'Db - mysql', 'steps': 1}, {'name': 'broker', 'steps': 1}, {'name': 'app1', 'steps': 0, 'deps': [{'endpoint': 'rest', '_id': '5b29836b3dee72509767a790', 'family': 'Broker', 'name': 'broker'}, {'endpoint': 'rest', '_id': '5b3d1a70d7f17a0025e48d32', 'family': 'Database', 'name': 'Db - mysql'}, {'endpoint': 'rest', '_id': '5b3d1b0ed7f17a0025e48d33', 'family': 'Application', 'name': 'app4'}]}], '_id': '5b293d045ec68b1828d5fa7e', 'name': 'app2', 'deps': [{'endpoint': 'rest', '_id': '5b293cff5ec68b1828d5fa7d', 'family': 'Application', 'name': 'app1'}]}, {'nodes': [{'name': 'Db - mysql', 'steps': 0}], '_id': '5b3d1b4fd7f17a0025e48d34', 'name': 'app5', 'deps': [{'endpoint': 'rest', '_id': '5b3d1a70d7f17a0025e48d32', 'family': 'Database', 'name': 'Db - mysql'}]}]}\n"
     ]
    }
   ],
   "source": [
    "pipeline = [\n",
    "    {'$match': {'name': {'$in': ['app2', 'app5']}, 'roles._id': '5afdb8cf93beb10025c13f4f'}},\n",
    "    {\n",
    "        '$graphLookup': {\n",
    "            'from': 'applications',\n",
    "            'startWith': '$deps._id',\n",
    "            'connectFromField': 'deps._id',\n",
    "            'connectToField': '_id',\n",
    "            'as': 'nodes',\n",
    "            'maxDepth': 10,\n",
    "            'depthField': 'steps'\n",
    "        }\n",
    "    },\n",
    "    {'$project': {'name': 1, 'deps': 1, 'deps': 1, 'nodes.name': 1, 'nodes.steps': 1, 'nodes.deps': 1}}\n",
    "];\n",
    "\n",
    "jpipeline = json.dumps(pipeline)\n",
    "\n",
    "data = requests.post('http://%s/aggregate' % url, json={'entity': 'applications', 'pipeline': jpipeline})\n",
    "data = data.json()\n",
    "print(data)"
   ]
  },
  {
   "cell_type": "code",
   "execution_count": 110,
   "metadata": {},
   "outputs": [
    {
     "data": {
      "text/plain": [
       "<networkx.classes.digraph.DiGraph at 0x7fc3a9fc94e0>"
      ]
     },
     "execution_count": 110,
     "metadata": {},
     "output_type": "execute_result"
    }
   ],
   "source": [
    "class BaseNetwork(object):\n",
    "    def __init__(self, G=nx.DiGraph):\n",
    "        self.graph = G()\n",
    "\n",
    "    def create_edge(self, parent, item):\n",
    "        if 'deps' in parent:\n",
    "            for dps in parent['deps']:\n",
    "                w = item.get('steps', -1)\n",
    "                self.graph.add_edge(item['name'], dps['name'], weight=w+1)\n",
    "\n",
    "    def create_node(self, item):\n",
    "        self.graph.add_node(item['name'], label=item['name'], object=item)\n",
    "\n",
    "    def make(self, data):\n",
    "        for item in data:\n",
    "            self.create_node(item)\n",
    "            self.create_edge(item, item)\n",
    "\n",
    "            for sub in item['nodes']:\n",
    "                self.create_node(sub)\n",
    "                self.create_edge(sub, sub)\n",
    "\n",
    "        return self\n",
    "\n",
    "    def get_graph(self):\n",
    "        return self.graph\n",
    "\n",
    "    \n",
    "class DrawNetwork(object):\n",
    "\n",
    "    def __init__(self, G):\n",
    "        self.graph = G\n",
    "        \n",
    "    def get_cardials(self):\n",
    "        return nx.circular_layout(self.graph)\n",
    "    \n",
    "    \n",
    "    def save_svg(self, options, labels):\n",
    "        #plt.figure(figsize=(4, 4))\n",
    "        pos = self.get_cardials()\n",
    "\n",
    "        nx.draw(self.graph, pos, **options)\n",
    "\n",
    "        labels = nx.get_edge_attributes(self.graph,'weight')\n",
    "        nx.draw_networkx_edge_labels(self.graph,pos,edge_labels=labels)\n",
    "\n",
    "        plt.axis('equal')\n",
    "        plt.show()\n",
    "        return pos\n",
    "\n",
    "network = BaseNetwork()\n",
    "network.make(data.get('items')).get_graph()"
   ]
  },
  {
   "cell_type": "code",
   "execution_count": 111,
   "metadata": {},
   "outputs": [
    {
     "data": {
      "image/png": "[encoded data removed]",
      "text/plain": [
       "<Figure size 432x288 with 1 Axes>"
      ]
     },
     "metadata": {},
     "output_type": "display_data"
    },
    {
     "name": "stdout",
     "output_type": "stream",
     "text": [
      "{'app4': array([1.00000000e+00, 2.45045699e-08]), 'app1': array([0.49999998, 0.86602546]), 'Db - mysql': array([-0.49999989, -0.86602541]), 'app5': array([-9.99999970e-01, -6.29182054e-08]), 'broker': array([-0.50000004,  0.8660254 ]), 'app2': array([ 0.49999992, -0.86602541])}\n"
     ]
    }
   ],
   "source": [
    "options = {\n",
    "    'with_labels': True,\n",
    "    'arrowsize': 15,\n",
    "    'node_shape': 's',\n",
    "    'node_size': 500,\n",
    "    'node_color': '#782675',\n",
    "    'font_color': 'white',\n",
    "    'alpha': 0.9,\n",
    "    'linewidths': 5\n",
    "}\n",
    "\n",
    "labels = {\n",
    "    'font_weight': 'bold'\n",
    "}\n",
    "\n",
    "draw = DrawNetwork(network.graph)\n",
    "draw.save_svg(options, labels)\n",
    "\n",
    "print(draw.get_cardials())"
   ]
  },
  {
   "cell_type": "code",
   "execution_count": 112,
   "metadata": {},
   "outputs": [
    {
     "name": "stdout",
     "output_type": "stream",
     "text": [
      "['Db - mysql', 'app4', 'broker']\n"
     ]
    },
    {
     "data": {
      "text/plain": [
       "0"
      ]
     },
     "execution_count": 112,
     "metadata": {},
     "output_type": "execute_result"
    }
   ],
   "source": [
    "G=network.graph\n",
    "nei = list(network.graph.neighbors('app1'))\n",
    "print(nei)\n",
    "\n",
    "network.graph.degree['app5']\n",
    "\n",
    "G.out_degree('app5')\n",
    "G.in_degree('app5')"
   ]
  },
  {
   "cell_type": "code",
   "execution_count": 23,
   "metadata": {},
   "outputs": [
    {
     "data": {
      "text/plain": [
       "0.2"
      ]
     },
     "execution_count": 23,
     "metadata": {},
     "output_type": "execute_result"
    }
   ],
   "source": [
    "nx.pagerank(G, alpha=0.9)\n",
    "\n",
    "nx.degree_histogram(G)\n",
    "\n",
    "nx.density(G)"
   ]
  },
  {
   "cell_type": "code",
   "execution_count": 216,
   "metadata": {},
   "outputs": [
    {
     "name": "stdout",
     "output_type": "stream",
     "text": [
      "app5\n",
      "0\n",
      "Db - mysql\n",
      "0\n",
      "app2\n",
      "0\n",
      "app1\n",
      "0\n",
      "Db - mysql\n",
      "0\n",
      "app4\n",
      "0\n",
      "Db - mysql\n",
      "0\n",
      "broker\n",
      "0\n"
     ]
    },
    {
     "data": {
      "image/svg+xml": [
       "<svg baseProfile=\"full\" height=\"100%\" version=\"1.1\" width=\"100%\" xmlns=\"http://www.w3.org/2000/svg\" xmlns:ev=\"http://www.w3.org/2001/xml-events\" xmlns:xlink=\"http://www.w3.org/1999/xlink\"><defs/><rect fill=\"rgb(255,255,0)\" height=\"20px\" stroke=\"black\" stroke-width=\"1\" width=\"20px\" x=\"0\" y=\"60\"/><rect fill=\"rgb(255,255,0)\" height=\"20px\" stroke=\"black\" stroke-width=\"1\" width=\"20px\" x=\"120\" y=\"0\"/><rect fill=\"rgb(255,255,0)\" height=\"20px\" stroke=\"black\" stroke-width=\"1\" width=\"20px\" x=\"120\" y=\"60\"/><rect fill=\"rgb(255,255,0)\" height=\"20px\" stroke=\"black\" stroke-width=\"1\" width=\"20px\" x=\"0\" y=\"0\"/><rect fill=\"rgb(255,255,0)\" height=\"20px\" stroke=\"black\" stroke-width=\"1\" width=\"20px\" x=\"120\" y=\"0\"/><rect fill=\"rgb(255,255,0)\" height=\"20px\" stroke=\"black\" stroke-width=\"1\" width=\"20px\" x=\"60\" y=\"0\"/><rect fill=\"rgb(255,255,0)\" height=\"20px\" stroke=\"black\" stroke-width=\"1\" width=\"20px\" x=\"120\" y=\"0\"/><rect fill=\"rgb(255,255,0)\" height=\"20px\" stroke=\"black\" stroke-width=\"1\" width=\"20px\" x=\"60\" y=\"0\"/></svg>"
      ],
      "text/plain": [
       "<IPython.core.display.SVG object>"
      ]
     },
     "metadata": {},
     "output_type": "display_data"
    }
   ],
   "source": [
    "import svgwrite\n",
    "from operator import itemgetter\n",
    "from IPython.display import SVG, display\n",
    "\n",
    "entry = ['app5', 'app2']\n",
    "dwg = svgwrite.Drawing('test.svg', profile='full')\n",
    "\n",
    "opts = {\n",
    "    'size': (\"20px\", \"20px\"),\n",
    "    'stroke_width': \"1\",\n",
    "    'stroke': \"black\",\n",
    "    'fill': \"rgb(255,255,0)\"\n",
    "}\n",
    "\n",
    "\n",
    "\n",
    "\n",
    "\n",
    "\n",
    "def draw_square(x, y):\n",
    "    dwg.add(dwg.rect(insert = (x, y), **opts))\n",
    "\n",
    "    \n",
    "class nn(object):\n",
    "    def __init__(self):\n",
    "        self.base = 60\n",
    "        self.old_weight = 0\n",
    "        self.new_weight = 0\n",
    "\n",
    "        self.top = 0\n",
    "        \n",
    "    def recursive_draw(self,edges):\n",
    "\n",
    "        for item in edges:\n",
    "            print(item)\n",
    "            #print(G.node[item]['label'])\n",
    "\n",
    "\n",
    "            pred = G.in_edges(item, data=True)\n",
    "            if pred and len(list(pred)) > 0:\n",
    "                self.new_weight = max([it[2].get('weight') for it in pred])\n",
    "\n",
    "\n",
    "            if self.old_weight == self.new_weight:\n",
    "                self.top = self.top + 1\n",
    "            else:\n",
    "                self.top = 0\n",
    "                self.old_weight = self.new_weight\n",
    "\n",
    "            print(top)\n",
    "            x = base * self.new_weight\n",
    "            y = base * self.top  \n",
    "            succ = G.successors(item)\n",
    "\n",
    "            draw_square(x, y)\n",
    "            self.recursive_draw(succ)\n",
    "\n",
    "        \n",
    "        \n",
    "    \n",
    "    \n",
    "nn().recursive_draw(entry)    \n",
    "\n",
    "\n",
    "dwg.save()\n",
    "display(SVG(filename='test.svg'))"
   ]
  }
 ],
 "metadata": {
  "kernelspec": {
   "display_name": "an",
   "language": "python",
   "name": "an"
  },
  "language_info": {
   "codemirror_mode": {
    "name": "ipython",
    "version": 3
   },
   "file_extension": ".py",
   "mimetype": "text/x-python",
   "name": "python",
   "nbconvert_exporter": "python",
   "pygments_lexer": "ipython3",
   "version": "3.5.2"
  }
 },
 "nbformat": 4,
 "nbformat_minor": 2
}
