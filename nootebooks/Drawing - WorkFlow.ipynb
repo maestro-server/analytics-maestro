{
 "cells": [
  {
   "cell_type": "code",
   "execution_count": 19,
   "metadata": {
    "ExecuteTime": {
     "end_time": "2018-07-17T23:01:35.913598Z",
     "start_time": "2018-07-17T23:01:35.909263Z"
    }
   },
   "outputs": [],
   "source": [
    "import requests\n",
    "import json\n",
    "\n",
    "url = '10.168.20.20:5010'\n",
    "entries = ['5b491e3dd7f17a0025e48d76']\n",
    "rolesa = '5afdb8cf93beb10025c13f4f'"
   ]
  },
  {
   "cell_type": "code",
   "execution_count": 20,
   "metadata": {
    "ExecuteTime": {
     "end_time": "2018-07-17T23:01:35.939437Z",
     "start_time": "2018-07-17T23:01:35.917192Z"
    }
   },
   "outputs": [],
   "source": [
    "pipeline = [\n",
    "    {'$match': {'_id': {'$in': entries}, 'roles._id': rolesa}},\n",
    "    {\n",
    "        '$graphLookup': {\n",
    "            'from': 'applications',\n",
    "            'startWith': '$deps._id',\n",
    "            'connectFromField': 'deps._id',\n",
    "            'connectToField': '_id',\n",
    "            'as': 'nodes',\n",
    "            'maxDepth': 10,\n",
    "            'depthField': 'steps'\n",
    "        }\n",
    "    },\n",
    "    {'$project': {\n",
    "                    'name': 1, 'family': 1, \n",
    "                    'deps._id': 1, 'deps.endpoint': 1, \n",
    "                    'nodes._id': 1, 'nodes.deps': 1, 'nodes.name': 1, 'nodes.family': 1, 'nodes.servers': 1\n",
    "                 }\n",
    "    }\n",
    "];\n",
    "\n",
    "jpipeline = json.dumps(pipeline)\n",
    "\n",
    "data = requests.post('http://%s/aggregate' % url, json={'entity': 'applications', 'pipeline': jpipeline})\n",
    "data = data.json()"
   ]
  },
  {
   "cell_type": "code",
   "execution_count": 21,
   "metadata": {
    "ExecuteTime": {
     "end_time": "2018-07-17T23:01:35.951390Z",
     "start_time": "2018-07-17T23:01:35.941872Z"
    }
   },
   "outputs": [
    {
     "data": {
      "text/plain": [
       "<networkx.classes.digraph.DiGraph at 0x7fbaca505b38>"
      ]
     },
     "execution_count": 21,
     "metadata": {},
     "output_type": "execute_result"
    }
   ],
   "source": [
    "import sys\n",
    "import os\n",
    "cwd = os.getcwd()\n",
    "spltted = cwd.split('/')[:-1]\n",
    "sys.path.append('/'.join(spltted))\n",
    "\n",
    "import networkx as nx\n",
    "from app.services.gridOrchestrator import GridOrchestrator\n",
    "from app.libs.network.baseNetwork import BaseNetwork\n",
    "from app.libs.histograms.histogram import Histogram\n",
    "from app.libs.histograms.grid import GridHistogram\n",
    "\n",
    "from svgwrite import Drawing\n",
    "\n",
    "network = BaseNetwork()\n",
    "network.make(data.get('items')).get_graph()"
   ]
  },
  {
   "cell_type": "code",
   "execution_count": 22,
   "metadata": {
    "ExecuteTime": {
     "end_time": "2018-07-17T23:01:35.964485Z",
     "start_time": "2018-07-17T23:01:35.954075Z"
    }
   },
   "outputs": [],
   "source": [
    "class DrawArea(object):\n",
    "    def __init__(self, off, size, hist, nmax):\n",
    "        self._off = off\n",
    "        self._size = size\n",
    "        self._hist = hist\n",
    "        self._nmax = nmax\n",
    "\n",
    "    def cal_area(self, n, pointer):\n",
    "        return (n * self._size[pointer]) + (n * self._off[pointer])\n",
    "\n",
    "    def area(self):\n",
    "        area_y = self.cal_area(self._nmax, 1)\n",
    "        area_x = self.cal_area(max(self._hist, key=int) + 1, 1)\n",
    "        return (area_x, area_y)\n",
    "\n",
    "class DefsSVG(object):\n",
    "    def __init__(self, draw):\n",
    "        self.dwg = draw\n",
    "\n",
    "    def app(self, pos, title, size=(20, 20), unit=\"px\"):\n",
    "        opts = {\n",
    "            'size': (\"%s%s\" % (size[0], unit), \"%s%s\" % (size[1], unit)),\n",
    "            'stroke_width': \"1\",\n",
    "            'stroke': \"black\",\n",
    "            'fill': \"rgb(255,255,0)\"\n",
    "        }\n",
    "\n",
    "        self.add(self.dwg.rect(insert=pos, **opts))\n",
    "        self.add(self.dwg.text(title, insert=(pos[0], pos[1] + 10), fill='red'))\n",
    "\n",
    "    def line(self, cx, cy):\n",
    "        opts = {\n",
    "            'stroke_width': \"1\",\n",
    "            'stroke': \"black\",\n",
    "            'fill': \"rgb(0,0,0)\"\n",
    "        }\n",
    "\n",
    "        self.add(self.dwg.line(start=cx, end=cy, **opts))\n",
    "\n",
    "    def add(self, svg):\n",
    "        self.dwg.add(svg)"
   ]
  },
  {
   "cell_type": "code",
   "execution_count": 23,
   "metadata": {
    "ExecuteTime": {
     "end_time": "2018-07-17T23:01:35.982165Z",
     "start_time": "2018-07-17T23:01:35.967862Z"
    }
   },
   "outputs": [],
   "source": [
    "class DrawTemplateSVG(object):\n",
    "    def __init__(self, hist, nmax, darea=DrawArea, defs=DefsSVG):\n",
    "        self._off = (40, 40)\n",
    "        self._size = (20, 20)\n",
    "\n",
    "        self._hist = hist\n",
    "        self._nmax = nmax\n",
    "\n",
    "        self._area = darea(self._off, self._size, hist, nmax).area()\n",
    "\n",
    "        self.dwg = Drawing('test.svg', size=self._area)\n",
    "        self._grid_defs = defs(self.dwg)\n",
    "\n",
    "    def draw_app(self, pos, item):\n",
    "        label = item[3].get('name')\n",
    "        size = item[2]\n",
    "        \n",
    "        print(label, size)\n",
    "        \n",
    "        pos = self.cal_off(pos, size)\n",
    "        self._grid_defs.app(pos, label, self._size)\n",
    "\n",
    "    def draw_connect(self, pos1, pos2, w1, w2, size1, size2):\n",
    "        pos1 = self.cal_pos_line(pos1, w1, self._size[0])\n",
    "        pos2 = self.cal_pos_line(pos2, w2)\n",
    "\n",
    "        self._grid_defs.line(pos1, pos2)\n",
    "\n",
    "    def cal_off(self, pos, size):\n",
    "        w = pos[0]\n",
    "        \n",
    "        x = self.cal_offx(pos[0], w)\n",
    "        y = self.cal_offy(pos[1], w, size)\n",
    "\n",
    "        return (x, y)\n",
    "\n",
    "    def cal_offy(self, y, w, size):\n",
    "        off = 0\n",
    "        \n",
    "        if size > 1:\n",
    "            off = ((size-1) * self._size[1]) + ((size-2) * self._off[1]) / 2\n",
    "    \n",
    "        return (y * self._off[1]) + (y * self._size[1]) + off\n",
    "\n",
    "    def cal_offx(self, x, w):\n",
    "        return (x * self._off[0]) + (x * self._size[0])\n",
    "\n",
    "    def cal_pos_line(self, pos, w, suff_x=0):\n",
    "        apos = self.cal_off(pos, w)\n",
    "        y = apos[1] + (self._size[1] / 2)\n",
    "        x = apos[0] + suff_x\n",
    "\n",
    "        return (x, y)\n",
    "\n",
    "    def save(self):\n",
    "        self.dwg.save()\n",
    "        return self.dwg.get_xml()\n",
    "\n",
    "class DrawLayout(object):\n",
    "    def __init__(self, grid, index, gridhist=GridHistogram, draw=DrawTemplateSVG):\n",
    "        \n",
    "        self._grid = grid\n",
    "        self._index = index\n",
    "        \n",
    "        GridHistogram = gridhist(self._grid)\n",
    "        self._nmax = GridHistogram.max_value()\n",
    "        self._hist = GridHistogram.get_counter()\n",
    "        \n",
    "        self.drawer = draw(self._hist, self._nmax)\n",
    "\n",
    "    def draw_nodes(self):\n",
    "        data = self._grid\n",
    "        for col_k, columm in data.items():\n",
    "            for line_k, label in columm.items():\n",
    "                if label in self._index:\n",
    "                    item = self._index[label]\n",
    "                    \n",
    "                    self.drawer.draw_app((col_k, line_k), item)\n",
    "        \n",
    "        return self\n",
    "    \n",
    "    def draw_connections(self, edges):\n",
    "        for edge in edges:\n",
    "            pos = []\n",
    "            w = []\n",
    "            size = []\n",
    "            \n",
    "            for i in range(2):\n",
    "                ipos = self._index[edge[i]]\n",
    "                pos.append(ipos)\n",
    "                w.append(ipos[0])\n",
    "                size.append(ipos[2])\n",
    "\n",
    "            self.drawer.draw_connect(*pos, *w, *size)\n",
    "            \n",
    "        return self\n",
    "    \n",
    "    def save(self):\n",
    "        return self.drawer.save()"
   ]
  },
  {
   "cell_type": "code",
   "execution_count": 24,
   "metadata": {
    "ExecuteTime": {
     "end_time": "2018-07-17T23:01:36.016388Z",
     "start_time": "2018-07-17T23:01:35.985069Z"
    }
   },
   "outputs": [
    {
     "name": "stdout",
     "output_type": "stream",
     "text": [
      "-------------------------\n",
      "akamai 7\n",
      "app1 1\n",
      "app5 1\n",
      "app2 2\n",
      "app3 3\n",
      "sub2 1\n",
      "sub1 1\n",
      "root 3\n",
      "roo1 1\n",
      "root3 1\n",
      "root2 1\n"
     ]
    },
    {
     "data": {
      "image/svg+xml": [
       "<svg baseProfile=\"full\" height=\"420\" version=\"1.1\" width=\"240\" xmlns=\"http://www.w3.org/2000/svg\" xmlns:ev=\"http://www.w3.org/2001/xml-events\" xmlns:xlink=\"http://www.w3.org/1999/xlink\"><defs/><rect fill=\"rgb(255,255,0)\" height=\"20px\" stroke=\"black\" stroke-width=\"1\" width=\"20px\" x=\"0\" y=\"220.0\"/><text fill=\"red\" x=\"0\" y=\"230.0\">akamai</text><rect fill=\"rgb(255,255,0)\" height=\"20px\" stroke=\"black\" stroke-width=\"1\" width=\"20px\" x=\"60\" y=\"0\"/><text fill=\"red\" x=\"60\" y=\"10\">app1</text><rect fill=\"rgb(255,255,0)\" height=\"20px\" stroke=\"black\" stroke-width=\"1\" width=\"20px\" x=\"60\" y=\"60\"/><text fill=\"red\" x=\"60\" y=\"70\">app5</text><rect fill=\"rgb(255,255,0)\" height=\"20px\" stroke=\"black\" stroke-width=\"1\" width=\"20px\" x=\"60\" y=\"140.0\"/><text fill=\"red\" x=\"60\" y=\"150.0\">app2</text><rect fill=\"rgb(255,255,0)\" height=\"20px\" stroke=\"black\" stroke-width=\"1\" width=\"20px\" x=\"60\" y=\"300.0\"/><text fill=\"red\" x=\"60\" y=\"310.0\">app3</text><rect fill=\"rgb(255,255,0)\" height=\"20px\" stroke=\"black\" stroke-width=\"1\" width=\"20px\" x=\"120\" y=\"120\"/><text fill=\"red\" x=\"120\" y=\"130\">sub2</text><rect fill=\"rgb(255,255,0)\" height=\"20px\" stroke=\"black\" stroke-width=\"1\" width=\"20px\" x=\"120\" y=\"180\"/><text fill=\"red\" x=\"120\" y=\"190\">sub1</text><rect fill=\"rgb(255,255,0)\" height=\"20px\" stroke=\"black\" stroke-width=\"1\" width=\"20px\" x=\"120\" y=\"300.0\"/><text fill=\"red\" x=\"120\" y=\"310.0\">root</text><rect fill=\"rgb(255,255,0)\" height=\"20px\" stroke=\"black\" stroke-width=\"1\" width=\"20px\" x=\"180\" y=\"240\"/><text fill=\"red\" x=\"180\" y=\"250\">roo1</text><rect fill=\"rgb(255,255,0)\" height=\"20px\" stroke=\"black\" stroke-width=\"1\" width=\"20px\" x=\"180\" y=\"300\"/><text fill=\"red\" x=\"180\" y=\"310\">root3</text><rect fill=\"rgb(255,255,0)\" height=\"20px\" stroke=\"black\" stroke-width=\"1\" width=\"20px\" x=\"180\" y=\"360\"/><text fill=\"red\" x=\"180\" y=\"370\">root2</text><line fill=\"rgb(0,0,0)\" stroke=\"black\" stroke-width=\"1\" x1=\"20\" x2=\"60\" y1=\"10.0\" y2=\"70.0\"/><line fill=\"rgb(0,0,0)\" stroke=\"black\" stroke-width=\"1\" x1=\"20\" x2=\"60\" y1=\"10.0\" y2=\"130.0\"/><line fill=\"rgb(0,0,0)\" stroke=\"black\" stroke-width=\"1\" x1=\"20\" x2=\"60\" y1=\"10.0\" y2=\"10.0\"/><line fill=\"rgb(0,0,0)\" stroke=\"black\" stroke-width=\"1\" x1=\"20\" x2=\"60\" y1=\"10.0\" y2=\"250.0\"/><line fill=\"rgb(0,0,0)\" stroke=\"black\" stroke-width=\"1\" x1=\"80\" x2=\"120\" y1=\"130.0\" y2=\"150.0\"/><line fill=\"rgb(0,0,0)\" stroke=\"black\" stroke-width=\"1\" x1=\"80\" x2=\"120\" y1=\"130.0\" y2=\"210.0\"/><line fill=\"rgb(0,0,0)\" stroke=\"black\" stroke-width=\"1\" x1=\"140\" x2=\"180\" y1=\"270.0\" y2=\"310.0\"/><line fill=\"rgb(0,0,0)\" stroke=\"black\" stroke-width=\"1\" x1=\"140\" x2=\"180\" y1=\"270.0\" y2=\"430.0\"/><line fill=\"rgb(0,0,0)\" stroke=\"black\" stroke-width=\"1\" x1=\"140\" x2=\"60\" y1=\"270.0\" y2=\"130.0\"/><line fill=\"rgb(0,0,0)\" stroke=\"black\" stroke-width=\"1\" x1=\"140\" x2=\"180\" y1=\"270.0\" y2=\"370.0\"/><line fill=\"rgb(0,0,0)\" stroke=\"black\" stroke-width=\"1\" x1=\"140\" x2=\"60\" y1=\"270.0\" y2=\"250.0\"/><line fill=\"rgb(0,0,0)\" stroke=\"black\" stroke-width=\"1\" x1=\"80\" x2=\"120\" y1=\"250.0\" y2=\"270.0\"/></svg>"
      ],
      "text/plain": [
       "<IPython.core.display.SVG object>"
      ]
     },
     "metadata": {},
     "output_type": "display_data"
    }
   ],
   "source": [
    "from IPython.display import SVG, display\n",
    "\n",
    "print(\"-------------------------\")\n",
    "Orchestration = GridOrchestrator(network.graph)\n",
    "Orchestration.create(entries)\n",
    "\n",
    "Layout = DrawLayout(Orchestration.get_grid().get_grid(), Orchestration.get_grid().get_index())\n",
    "Layout.draw_nodes()\n",
    "Layout.draw_connections(network.graph.edges(data='endpoint'))\n",
    "Layout.save()\n",
    "   \n",
    "display(SVG(filename='test.svg'))"
   ]
  }
 ],
 "metadata": {
  "kernelspec": {
   "display_name": "an",
   "language": "python",
   "name": "an"
  },
  "language_info": {
   "codemirror_mode": {
    "name": "ipython",
    "version": 3
   },
   "file_extension": ".py",
   "mimetype": "text/x-python",
   "name": "python",
   "nbconvert_exporter": "python",
   "pygments_lexer": "ipython3",
   "version": "3.5.2"
  }
 },
 "nbformat": 4,
 "nbformat_minor": 2
}
