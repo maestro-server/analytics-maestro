{
 "cells": [
  {
   "cell_type": "code",
   "execution_count": 25,
   "metadata": {
    "ExecuteTime": {
     "end_time": "2018-07-19T02:45:23.144194Z",
     "start_time": "2018-07-19T02:45:23.140929Z"
    }
   },
   "outputs": [],
   "source": [
    "import requests\n",
    "import json\n",
    "\n",
    "\n",
    "url = 'localhost:5010'\n",
    "entries = ['5b3ec47706f9e50f2f36acc8', '5b3fd54906f9e50f2f36acc9']\n",
    "rolesa = '593f49be42d3ed97390f25a7'\n",
    "\n",
    "#url = '10.168.20.20:5010'\n",
    "#entries = ['5b491e3dd7f17a0025e48d76']\n",
    "#rolesa = '5afdb8cf93beb10025c13f4f'"
   ]
  },
  {
   "cell_type": "code",
   "execution_count": 26,
   "metadata": {
    "ExecuteTime": {
     "end_time": "2018-07-19T02:45:23.168507Z",
     "start_time": "2018-07-19T02:45:23.146683Z"
    }
   },
   "outputs": [],
   "source": [
    "pipeline = [\n",
    "    {'$match': {'_id': {'$in': entries}, 'roles._id': rolesa}},\n",
    "    {\n",
    "        '$graphLookup': {\n",
    "            'from': 'applications',\n",
    "            'startWith': '$deps._id',\n",
    "            'connectFromField': 'deps._id',\n",
    "            'connectToField': '_id',\n",
    "            'as': 'nodes',\n",
    "            'maxDepth': 10,\n",
    "            'depthField': 'steps'\n",
    "        }\n",
    "    },\n",
    "    {'$project': {\n",
    "                    'name': 1, 'family': 1, \n",
    "                    'deps._id': 1, 'deps.endpoint': 1, \n",
    "                    'nodes._id': 1, 'nodes.deps': 1, 'nodes.name': 1, 'nodes.family': 1, 'nodes.servers': 1\n",
    "                 }\n",
    "    }\n",
    "];\n",
    "\n",
    "jpipeline = json.dumps(pipeline)\n",
    "\n",
    "data = requests.post('http://%s/aggregate' % url, json={'entity': 'applications', 'pipeline': jpipeline})\n",
    "data = data.json()"
   ]
  },
  {
   "cell_type": "code",
   "execution_count": 27,
   "metadata": {
    "ExecuteTime": {
     "end_time": "2018-07-19T02:45:23.178360Z",
     "start_time": "2018-07-19T02:45:23.170910Z"
    }
   },
   "outputs": [
    {
     "data": {
      "text/plain": [
       "<networkx.classes.digraph.DiGraph at 0x105213b70>"
      ]
     },
     "execution_count": 27,
     "metadata": {},
     "output_type": "execute_result"
    }
   ],
   "source": [
    "import sys\n",
    "import os\n",
    "import numpy as np\n",
    "cwd = os.getcwd()\n",
    "spltted = cwd.split('/')[:-1]\n",
    "sys.path.append('/'.join(spltted))\n",
    "\n",
    "import networkx as nx\n",
    "from app.services.gridOrchestrator import GridOrchestrator\n",
    "from app.libs.network.baseNetwork import BaseNetwork\n",
    "from app.libs.histograms.histogram import Histogram\n",
    "from app.libs.histograms.grid import GridHistogram\n",
    "\n",
    "from svgwrite import Drawing\n",
    "\n",
    "network = BaseNetwork()\n",
    "network.make(data.get('items')).get_graph()"
   ]
  },
  {
   "cell_type": "code",
   "execution_count": 28,
   "metadata": {
    "ExecuteTime": {
     "end_time": "2018-07-19T02:45:23.197705Z",
     "start_time": "2018-07-19T02:45:23.181760Z"
    }
   },
   "outputs": [],
   "source": [
    "class DrawArea(object):\n",
    "    def __init__(self, off, size, hist, nmax):\n",
    "        self._off = off\n",
    "        self._size = size\n",
    "        self._hist = hist\n",
    "        self._nmax = nmax\n",
    "\n",
    "    def cal_area(self, n, pointer):\n",
    "        return (n * self._size[pointer]) + (n * self._off[pointer])\n",
    "\n",
    "    def area(self):\n",
    "        area_y = self.cal_area(self._nmax, 1)\n",
    "        area_x = self.cal_area(max(self._hist, key=int) + 1, 0)\n",
    "        return (area_x+400, area_y+100)\n",
    "\n",
    "class DefsSVG(object):\n",
    "    def __init__(self, draw):\n",
    "        self.dwg = draw\n",
    "        \n",
    "        grid = self.dwg.symbol(id='grid')\n",
    "        self.dwg.defs.add(grid)\n",
    "        \n",
    "        grid.viewbox(0, 0, 266.4, 154)\n",
    "        grid.add(self.dwg.polyline(points=[(133.2, 0),  (0, 78.16), (133.2, 154), (266.4, 78.16)], fill=\"#a0501a\"))\n",
    "        self._base = grid\n",
    "\n",
    "\n",
    "    def app(self, pos, title, size=(20, 20), unit=\"px\"):\n",
    "        opts = {\n",
    "            'size': (\"%s%s\" % (size[0], unit), \"%s%s\" % (size[1], unit))\n",
    "        }\n",
    "\n",
    "        self.square(pos, (size[0], size[1]))\n",
    "        \n",
    "        self.add(self.dwg.use(self._base, insert=(pos[0], pos[1]+20), **opts))\n",
    "        #self.add(self.dwg.text(title, insert=(pos[0]+3, pos[1] + 20), fill='black'))\n",
    "\n",
    "    def square(self, pos, size=(60,40), unit=\"px\"):\n",
    "        opts = {\n",
    "            'size': (\"%s%s\"%(size[0], unit), \"%s%s\"%(size[1], unit)),\n",
    "            'stroke_width': \"1\",\n",
    "            'stroke': \"black\",\n",
    "            'fill': \"rgb(255,255,0)\"\n",
    "        }\n",
    "        \n",
    "        self.add(self.dwg.rect(insert = pos, **opts))\n",
    "        \n",
    "    def line(self, cx, cy):\n",
    "        opts = {\n",
    "            'stroke_width': \"1\",\n",
    "            'stroke': \"black\",\n",
    "            'fill': \"rgb(0,0,0)\"\n",
    "        }\n",
    "\n",
    "        self.add(self.dwg.line(start=cx, end=cy, **opts))\n",
    "\n",
    "    def add(self, svg):\n",
    "        self.dwg.add(svg)"
   ]
  },
  {
   "cell_type": "code",
   "execution_count": 29,
   "metadata": {
    "ExecuteTime": {
     "end_time": "2018-07-19T02:45:23.218801Z",
     "start_time": "2018-07-19T02:45:23.200148Z"
    }
   },
   "outputs": [],
   "source": [
    "class DrawTemplateSVG(object):\n",
    "    def __init__(self, hist, nmax, base, darea=DrawArea, defs=DefsSVG):\n",
    "        self._off = (30, 0)\n",
    "        self._size = (60, 80)\n",
    "\n",
    "        self._hist = hist\n",
    "        self._nmax = nmax\n",
    "\n",
    "        self._area = darea(self._off, self._size, hist, nmax).area()\n",
    "\n",
    "        self.dwg = Drawing('test.svg', size=self._area)\n",
    "        self._grid_defs = defs(self.dwg)\n",
    "        \n",
    "        self._base = base\n",
    "\n",
    "    def draw_app(self, pos, name, size):\n",
    "        pos = self.cal_off(pos, size)\n",
    "        self._grid_defs.app(pos, name, self._size)\n",
    "\n",
    "    def draw_connect(self, pos1, pos2, w1, w2, size1, size2):\n",
    "        pos1 = self.cal_pos_line(pos1, w1, self._size[0])\n",
    "        pos2 = self.cal_pos_line(pos2, w2)\n",
    "\n",
    "        self._grid_defs.line(pos1, pos2)\n",
    "\n",
    "    def cal_off(self, pos, size):\n",
    "        x = self.cal_offx(*pos, size)\n",
    "        y = self.cal_offy(*pos, size)\n",
    "        \n",
    "        #x = (pos[0] * (pos[1]/2))\n",
    "        dst = 0.3 \n",
    "        \n",
    "        \n",
    "        size_y = self._size[1]\n",
    "        size_x = self._size[0]\n",
    "        y = (self._area[1]/4) - ((size_y / 2) * pos[0]) + ((size_y / 2) * pos[1])\n",
    "        x = (((size_x / 2) * pos[1]) + ((size_x / 2) * pos[0]))\n",
    "        \n",
    "        #x *= self._size[0]\n",
    "\n",
    "        \n",
    "        return (x, y)\n",
    "\n",
    "    def cal_offy(self, x, y, size):\n",
    "        #if size > 1:\n",
    "        #    off = ((size-1) * self._size[1]) + ((size-2) * self._off[1]) / 2\n",
    "        \n",
    "        off = self.cal_distor_y(y)\n",
    "        return (y * self._off[1]) + (y * self._size[1]) + off\n",
    "\n",
    "    def cal_distor_y(self, y):\n",
    "        off = 0\n",
    "        \n",
    "        return off\n",
    "        \n",
    "    def cal_offx(self, x, y, size):\n",
    "        off = self.cal_distor_x(x)\n",
    "        return (x * self._off[0]) + (x * self._size[0]) + off\n",
    "    \n",
    "    def cal_distor_x(self, x):\n",
    "        off = 0\n",
    "        return off\n",
    "\n",
    "    def cal_pos_line(self, pos, w, suff_x=0):\n",
    "        apos = self.cal_off(pos, w)\n",
    "        y = apos[1] + (self._size[1] / 2)\n",
    "        x = apos[0] + suff_x\n",
    "\n",
    "        return (x, y)\n",
    "\n",
    "    def save(self):\n",
    "        self.dwg.save()\n",
    "        return self.dwg.get_xml()\n",
    "\n",
    "def invert_dol(d):\n",
    "    return dict((v, k) for k in d for v in d[k])\n",
    "\n",
    "class DrawLayout(object):\n",
    "    def __init__(self, grid, index, gridhist=GridHistogram, draw=DrawTemplateSVG):\n",
    "        \n",
    "        self._grid = grid\n",
    "        self._index = index\n",
    "        \n",
    "        GridHistogram = gridhist(self._grid)\n",
    "        self._nmax = GridHistogram.max_value()\n",
    "        self._hist = GridHistogram.get_counter()\n",
    "        \n",
    "        self._max_x = max(self._grid, key=int)\n",
    "        self._max_y = max(self._grid[0], key=int)\n",
    "        \n",
    "        self.drawer = draw(self._hist, self._nmax, (0, self._max_y))\n",
    "\n",
    "    def draw_nodes(self):\n",
    "        \n",
    "        for col_k in range(self._max_x, 0, -1):\n",
    "            if col_k in self._grid:\n",
    "                columm = self._grid[col_k]\n",
    "                max_y = max(self._grid[col_k], key=int)\n",
    "            \n",
    "                for line_k in range(0, max_y):\n",
    "                    if line_k in self._grid[col_k]:\n",
    "                        \n",
    "                        label = self._grid[col_k][line_k]\n",
    "                    \n",
    "                        if label in self._index:\n",
    "                            item = self._index[label]\n",
    "                            name = item[3].get('name', '-')\n",
    "                            size = item[2]\n",
    "                        else:\n",
    "                            name = '-'\n",
    "                            size = 1\n",
    "\n",
    "                        name = \"%s / %s -- %s\" % (col_k, line_k, size)\n",
    "                        self.drawer.draw_app((col_k, line_k), name, size)\n",
    "        \n",
    "        return self\n",
    "    \n",
    "    def draw_connections(self, edges):\n",
    "        for edge in edges:\n",
    "            pos = []\n",
    "            w = []\n",
    "            size = []\n",
    "            \n",
    "            for i in range(2):\n",
    "                ipos = self._index[edge[i]]\n",
    "                pos.append(ipos)\n",
    "                w.append(ipos[0])\n",
    "                size.append(ipos[2])\n",
    "\n",
    "            #self.drawer.draw_connect(*pos, *w, *size)\n",
    "            \n",
    "        return self\n",
    "    \n",
    "    def save(self):\n",
    "        return self.drawer.save()"
   ]
  },
  {
   "cell_type": "code",
   "execution_count": 30,
   "metadata": {
    "ExecuteTime": {
     "end_time": "2018-07-19T02:45:23.267638Z",
     "start_time": "2018-07-19T02:45:23.221470Z"
    },
    "scrolled": false
   },
   "outputs": [
    {
     "name": "stdout",
     "output_type": "stream",
     "text": [
      "-------------------------\n"
     ]
    },
    {
     "data": {
      "image/svg+xml": [
       "<svg baseProfile=\"full\" height=\"1060\" version=\"1.1\" width=\"1120\" xmlns=\"http://www.w3.org/2000/svg\" xmlns:ev=\"http://www.w3.org/2001/xml-events\" xmlns:xlink=\"http://www.w3.org/1999/xlink\"><defs><symbol id=\"grid\" viewBox=\"0,0,266.4,154\"><polyline fill=\"#a0501a\" points=\"133.2,0 0,78.16 133.2,154 266.4,78.16\"/></symbol></defs><rect fill=\"rgb(255,255,0)\" height=\"80px\" stroke=\"black\" stroke-width=\"1\" width=\"60px\" x=\"210.0\" y=\"-15.0\"/><use height=\"80px\" width=\"60px\" x=\"210.0\" xlink:href=\"#grid\" y=\"5.0\"/><rect fill=\"rgb(255,255,0)\" height=\"80px\" stroke=\"black\" stroke-width=\"1\" width=\"60px\" x=\"240.0\" y=\"25.0\"/><use height=\"80px\" width=\"60px\" x=\"240.0\" xlink:href=\"#grid\" y=\"45.0\"/><rect fill=\"rgb(255,255,0)\" height=\"80px\" stroke=\"black\" stroke-width=\"1\" width=\"60px\" x=\"270.0\" y=\"65.0\"/><use height=\"80px\" width=\"60px\" x=\"270.0\" xlink:href=\"#grid\" y=\"85.0\"/><rect fill=\"rgb(255,255,0)\" height=\"80px\" stroke=\"black\" stroke-width=\"1\" width=\"60px\" x=\"180.0\" y=\"25.0\"/><use height=\"80px\" width=\"60px\" x=\"180.0\" xlink:href=\"#grid\" y=\"45.0\"/><rect fill=\"rgb(255,255,0)\" height=\"80px\" stroke=\"black\" stroke-width=\"1\" width=\"60px\" x=\"210.0\" y=\"65.0\"/><use height=\"80px\" width=\"60px\" x=\"210.0\" xlink:href=\"#grid\" y=\"85.0\"/><rect fill=\"rgb(255,255,0)\" height=\"80px\" stroke=\"black\" stroke-width=\"1\" width=\"60px\" x=\"240.0\" y=\"105.0\"/><use height=\"80px\" width=\"60px\" x=\"240.0\" xlink:href=\"#grid\" y=\"125.0\"/><rect fill=\"rgb(255,255,0)\" height=\"80px\" stroke=\"black\" stroke-width=\"1\" width=\"60px\" x=\"150.0\" y=\"65.0\"/><use height=\"80px\" width=\"60px\" x=\"150.0\" xlink:href=\"#grid\" y=\"85.0\"/><rect fill=\"rgb(255,255,0)\" height=\"80px\" stroke=\"black\" stroke-width=\"1\" width=\"60px\" x=\"180.0\" y=\"105.0\"/><use height=\"80px\" width=\"60px\" x=\"180.0\" xlink:href=\"#grid\" y=\"125.0\"/><rect fill=\"rgb(255,255,0)\" height=\"80px\" stroke=\"black\" stroke-width=\"1\" width=\"60px\" x=\"210.0\" y=\"145.0\"/><use height=\"80px\" width=\"60px\" x=\"210.0\" xlink:href=\"#grid\" y=\"165.0\"/><rect fill=\"rgb(255,255,0)\" height=\"80px\" stroke=\"black\" stroke-width=\"1\" width=\"60px\" x=\"240.0\" y=\"185.0\"/><use height=\"80px\" width=\"60px\" x=\"240.0\" xlink:href=\"#grid\" y=\"205.0\"/><rect fill=\"rgb(255,255,0)\" height=\"80px\" stroke=\"black\" stroke-width=\"1\" width=\"60px\" x=\"120.0\" y=\"105.0\"/><use height=\"80px\" width=\"60px\" x=\"120.0\" xlink:href=\"#grid\" y=\"125.0\"/><rect fill=\"rgb(255,255,0)\" height=\"80px\" stroke=\"black\" stroke-width=\"1\" width=\"60px\" x=\"150.0\" y=\"145.0\"/><use height=\"80px\" width=\"60px\" x=\"150.0\" xlink:href=\"#grid\" y=\"165.0\"/><rect fill=\"rgb(255,255,0)\" height=\"80px\" stroke=\"black\" stroke-width=\"1\" width=\"60px\" x=\"180.0\" y=\"185.0\"/><use height=\"80px\" width=\"60px\" x=\"180.0\" xlink:href=\"#grid\" y=\"205.0\"/><rect fill=\"rgb(255,255,0)\" height=\"80px\" stroke=\"black\" stroke-width=\"1\" width=\"60px\" x=\"210.0\" y=\"225.0\"/><use height=\"80px\" width=\"60px\" x=\"210.0\" xlink:href=\"#grid\" y=\"245.0\"/><rect fill=\"rgb(255,255,0)\" height=\"80px\" stroke=\"black\" stroke-width=\"1\" width=\"60px\" x=\"240.0\" y=\"265.0\"/><use height=\"80px\" width=\"60px\" x=\"240.0\" xlink:href=\"#grid\" y=\"285.0\"/><rect fill=\"rgb(255,255,0)\" height=\"80px\" stroke=\"black\" stroke-width=\"1\" width=\"60px\" x=\"270.0\" y=\"305.0\"/><use height=\"80px\" width=\"60px\" x=\"270.0\" xlink:href=\"#grid\" y=\"325.0\"/><rect fill=\"rgb(255,255,0)\" height=\"80px\" stroke=\"black\" stroke-width=\"1\" width=\"60px\" x=\"300.0\" y=\"345.0\"/><use height=\"80px\" width=\"60px\" x=\"300.0\" xlink:href=\"#grid\" y=\"365.0\"/><rect fill=\"rgb(255,255,0)\" height=\"80px\" stroke=\"black\" stroke-width=\"1\" width=\"60px\" x=\"330.0\" y=\"385.0\"/><use height=\"80px\" width=\"60px\" x=\"330.0\" xlink:href=\"#grid\" y=\"405.0\"/><rect fill=\"rgb(255,255,0)\" height=\"80px\" stroke=\"black\" stroke-width=\"1\" width=\"60px\" x=\"360.0\" y=\"425.0\"/><use height=\"80px\" width=\"60px\" x=\"360.0\" xlink:href=\"#grid\" y=\"445.0\"/><rect fill=\"rgb(255,255,0)\" height=\"80px\" stroke=\"black\" stroke-width=\"1\" width=\"60px\" x=\"420.0\" y=\"505.0\"/><use height=\"80px\" width=\"60px\" x=\"420.0\" xlink:href=\"#grid\" y=\"525.0\"/><rect fill=\"rgb(255,255,0)\" height=\"80px\" stroke=\"black\" stroke-width=\"1\" width=\"60px\" x=\"90.0\" y=\"145.0\"/><use height=\"80px\" width=\"60px\" x=\"90.0\" xlink:href=\"#grid\" y=\"165.0\"/><rect fill=\"rgb(255,255,0)\" height=\"80px\" stroke=\"black\" stroke-width=\"1\" width=\"60px\" x=\"120.0\" y=\"185.0\"/><use height=\"80px\" width=\"60px\" x=\"120.0\" xlink:href=\"#grid\" y=\"205.0\"/><rect fill=\"rgb(255,255,0)\" height=\"80px\" stroke=\"black\" stroke-width=\"1\" width=\"60px\" x=\"150.0\" y=\"225.0\"/><use height=\"80px\" width=\"60px\" x=\"150.0\" xlink:href=\"#grid\" y=\"245.0\"/><rect fill=\"rgb(255,255,0)\" height=\"80px\" stroke=\"black\" stroke-width=\"1\" width=\"60px\" x=\"180.0\" y=\"265.0\"/><use height=\"80px\" width=\"60px\" x=\"180.0\" xlink:href=\"#grid\" y=\"285.0\"/><rect fill=\"rgb(255,255,0)\" height=\"80px\" stroke=\"black\" stroke-width=\"1\" width=\"60px\" x=\"210.0\" y=\"305.0\"/><use height=\"80px\" width=\"60px\" x=\"210.0\" xlink:href=\"#grid\" y=\"325.0\"/><rect fill=\"rgb(255,255,0)\" height=\"80px\" stroke=\"black\" stroke-width=\"1\" width=\"60px\" x=\"240.0\" y=\"345.0\"/><use height=\"80px\" width=\"60px\" x=\"240.0\" xlink:href=\"#grid\" y=\"365.0\"/><rect fill=\"rgb(255,255,0)\" height=\"80px\" stroke=\"black\" stroke-width=\"1\" width=\"60px\" x=\"270.0\" y=\"385.0\"/><use height=\"80px\" width=\"60px\" x=\"270.0\" xlink:href=\"#grid\" y=\"405.0\"/><rect fill=\"rgb(255,255,0)\" height=\"80px\" stroke=\"black\" stroke-width=\"1\" width=\"60px\" x=\"300.0\" y=\"425.0\"/><use height=\"80px\" width=\"60px\" x=\"300.0\" xlink:href=\"#grid\" y=\"445.0\"/><rect fill=\"rgb(255,255,0)\" height=\"80px\" stroke=\"black\" stroke-width=\"1\" width=\"60px\" x=\"330.0\" y=\"465.0\"/><use height=\"80px\" width=\"60px\" x=\"330.0\" xlink:href=\"#grid\" y=\"485.0\"/><rect fill=\"rgb(255,255,0)\" height=\"80px\" stroke=\"black\" stroke-width=\"1\" width=\"60px\" x=\"390.0\" y=\"545.0\"/><use height=\"80px\" width=\"60px\" x=\"390.0\" xlink:href=\"#grid\" y=\"565.0\"/><rect fill=\"rgb(255,255,0)\" height=\"80px\" stroke=\"black\" stroke-width=\"1\" width=\"60px\" x=\"60.0\" y=\"185.0\"/><use height=\"80px\" width=\"60px\" x=\"60.0\" xlink:href=\"#grid\" y=\"205.0\"/><rect fill=\"rgb(255,255,0)\" height=\"80px\" stroke=\"black\" stroke-width=\"1\" width=\"60px\" x=\"90.0\" y=\"225.0\"/><use height=\"80px\" width=\"60px\" x=\"90.0\" xlink:href=\"#grid\" y=\"245.0\"/><rect fill=\"rgb(255,255,0)\" height=\"80px\" stroke=\"black\" stroke-width=\"1\" width=\"60px\" x=\"120.0\" y=\"265.0\"/><use height=\"80px\" width=\"60px\" x=\"120.0\" xlink:href=\"#grid\" y=\"285.0\"/><rect fill=\"rgb(255,255,0)\" height=\"80px\" stroke=\"black\" stroke-width=\"1\" width=\"60px\" x=\"150.0\" y=\"305.0\"/><use height=\"80px\" width=\"60px\" x=\"150.0\" xlink:href=\"#grid\" y=\"325.0\"/><rect fill=\"rgb(255,255,0)\" height=\"80px\" stroke=\"black\" stroke-width=\"1\" width=\"60px\" x=\"180.0\" y=\"345.0\"/><use height=\"80px\" width=\"60px\" x=\"180.0\" xlink:href=\"#grid\" y=\"365.0\"/><rect fill=\"rgb(255,255,0)\" height=\"80px\" stroke=\"black\" stroke-width=\"1\" width=\"60px\" x=\"210.0\" y=\"385.0\"/><use height=\"80px\" width=\"60px\" x=\"210.0\" xlink:href=\"#grid\" y=\"405.0\"/><rect fill=\"rgb(255,255,0)\" height=\"80px\" stroke=\"black\" stroke-width=\"1\" width=\"60px\" x=\"240.0\" y=\"425.0\"/><use height=\"80px\" width=\"60px\" x=\"240.0\" xlink:href=\"#grid\" y=\"445.0\"/><rect fill=\"rgb(255,255,0)\" height=\"80px\" stroke=\"black\" stroke-width=\"1\" width=\"60px\" x=\"270.0\" y=\"465.0\"/><use height=\"80px\" width=\"60px\" x=\"270.0\" xlink:href=\"#grid\" y=\"485.0\"/><rect fill=\"rgb(255,255,0)\" height=\"80px\" stroke=\"black\" stroke-width=\"1\" width=\"60px\" x=\"300.0\" y=\"505.0\"/><use height=\"80px\" width=\"60px\" x=\"300.0\" xlink:href=\"#grid\" y=\"525.0\"/><rect fill=\"rgb(255,255,0)\" height=\"80px\" stroke=\"black\" stroke-width=\"1\" width=\"60px\" x=\"330.0\" y=\"545.0\"/><use height=\"80px\" width=\"60px\" x=\"330.0\" xlink:href=\"#grid\" y=\"565.0\"/><rect fill=\"rgb(255,255,0)\" height=\"80px\" stroke=\"black\" stroke-width=\"1\" width=\"60px\" x=\"360.0\" y=\"585.0\"/><use height=\"80px\" width=\"60px\" x=\"360.0\" xlink:href=\"#grid\" y=\"605.0\"/><rect fill=\"rgb(255,255,0)\" height=\"80px\" stroke=\"black\" stroke-width=\"1\" width=\"60px\" x=\"30.0\" y=\"225.0\"/><use height=\"80px\" width=\"60px\" x=\"30.0\" xlink:href=\"#grid\" y=\"245.0\"/><rect fill=\"rgb(255,255,0)\" height=\"80px\" stroke=\"black\" stroke-width=\"1\" width=\"60px\" x=\"60.0\" y=\"265.0\"/><use height=\"80px\" width=\"60px\" x=\"60.0\" xlink:href=\"#grid\" y=\"285.0\"/><rect fill=\"rgb(255,255,0)\" height=\"80px\" stroke=\"black\" stroke-width=\"1\" width=\"60px\" x=\"90.0\" y=\"305.0\"/><use height=\"80px\" width=\"60px\" x=\"90.0\" xlink:href=\"#grid\" y=\"325.0\"/><rect fill=\"rgb(255,255,0)\" height=\"80px\" stroke=\"black\" stroke-width=\"1\" width=\"60px\" x=\"120.0\" y=\"345.0\"/><use height=\"80px\" width=\"60px\" x=\"120.0\" xlink:href=\"#grid\" y=\"365.0\"/><rect fill=\"rgb(255,255,0)\" height=\"80px\" stroke=\"black\" stroke-width=\"1\" width=\"60px\" x=\"150.0\" y=\"385.0\"/><use height=\"80px\" width=\"60px\" x=\"150.0\" xlink:href=\"#grid\" y=\"405.0\"/><rect fill=\"rgb(255,255,0)\" height=\"80px\" stroke=\"black\" stroke-width=\"1\" width=\"60px\" x=\"180.0\" y=\"425.0\"/><use height=\"80px\" width=\"60px\" x=\"180.0\" xlink:href=\"#grid\" y=\"445.0\"/><rect fill=\"rgb(255,255,0)\" height=\"80px\" stroke=\"black\" stroke-width=\"1\" width=\"60px\" x=\"210.0\" y=\"465.0\"/><use height=\"80px\" width=\"60px\" x=\"210.0\" xlink:href=\"#grid\" y=\"485.0\"/><rect fill=\"rgb(255,255,0)\" height=\"80px\" stroke=\"black\" stroke-width=\"1\" width=\"60px\" x=\"240.0\" y=\"505.0\"/><use height=\"80px\" width=\"60px\" x=\"240.0\" xlink:href=\"#grid\" y=\"525.0\"/><rect fill=\"rgb(255,255,0)\" height=\"80px\" stroke=\"black\" stroke-width=\"1\" width=\"60px\" x=\"270.0\" y=\"545.0\"/><use height=\"80px\" width=\"60px\" x=\"270.0\" xlink:href=\"#grid\" y=\"565.0\"/><rect fill=\"rgb(255,255,0)\" height=\"80px\" stroke=\"black\" stroke-width=\"1\" width=\"60px\" x=\"300.0\" y=\"585.0\"/><use height=\"80px\" width=\"60px\" x=\"300.0\" xlink:href=\"#grid\" y=\"605.0\"/><rect fill=\"rgb(255,255,0)\" height=\"80px\" stroke=\"black\" stroke-width=\"1\" width=\"60px\" x=\"330.0\" y=\"625.0\"/><use height=\"80px\" width=\"60px\" x=\"330.0\" xlink:href=\"#grid\" y=\"645.0\"/></svg>"
      ],
      "text/plain": [
       "<IPython.core.display.SVG object>"
      ]
     },
     "metadata": {},
     "output_type": "display_data"
    }
   ],
   "source": [
    "from IPython.display import SVG, display\n",
    "\n",
    "print(\"-------------------------\")\n",
    "Orchestration = GridOrchestrator(network.graph)\n",
    "Orchestration.create(entries)\n",
    "\n",
    "Layout = DrawLayout(Orchestration.get_grid().get_grid(), Orchestration.get_grid().get_index())\n",
    "Layout.draw_nodes()\n",
    "Layout.draw_connections(network.graph.edges(data='endpoint'))\n",
    "Layout.save()\n",
    "   \n",
    "display(SVG(filename='test.svg'))"
   ]
  }
 ],
 "metadata": {
  "kernelspec": {
   "display_name": "an",
   "language": "python",
   "name": "an"
  },
  "language_info": {
   "codemirror_mode": {
    "name": "ipython",
    "version": 3
   },
   "file_extension": ".py",
   "mimetype": "text/x-python",
   "name": "python",
   "nbconvert_exporter": "python",
   "pygments_lexer": "ipython3",
   "version": "3.6.5"
  }
 },
 "nbformat": 4,
 "nbformat_minor": 2
}
