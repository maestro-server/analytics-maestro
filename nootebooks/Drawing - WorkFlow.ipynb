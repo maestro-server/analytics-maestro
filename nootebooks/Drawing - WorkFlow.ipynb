{
 "cells": [
  {
   "cell_type": "code",
   "execution_count": 53,
   "metadata": {
    "ExecuteTime": {
     "end_time": "2018-07-20T03:33:45.526869Z",
     "start_time": "2018-07-20T03:33:45.523008Z"
    }
   },
   "outputs": [],
   "source": [
    "import requests\n",
    "import json\n",
    "\n",
    "url = '10.168.20.20:5010'\n",
    "entries = ['5b491e3dd7f17a0025e48d76']\n",
    "rolesa = '5afdb8cf93beb10025c13f4f'\n",
    "\n",
    "url = 'localhost:5010'\n",
    "entries = ['5b3ec47706f9e50f2f36acc8', '5b3fd54906f9e50f2f36acc9']\n",
    "rolesa = '593f49be42d3ed97390f25a7'"
   ]
  },
  {
   "cell_type": "code",
   "execution_count": 54,
   "metadata": {
    "ExecuteTime": {
     "end_time": "2018-07-20T03:33:45.549771Z",
     "start_time": "2018-07-20T03:33:45.529493Z"
    }
   },
   "outputs": [],
   "source": [
    "pipeline = [\n",
    "    {'$match': {'_id': {'$in': entries}, 'roles._id': rolesa}},\n",
    "    {\n",
    "        '$graphLookup': {\n",
    "            'from': 'applications',\n",
    "            'startWith': '$deps._id',\n",
    "            'connectFromField': 'deps._id',\n",
    "            'connectToField': '_id',\n",
    "            'as': 'nodes',\n",
    "            'maxDepth': 10,\n",
    "            'depthField': 'steps'\n",
    "        }\n",
    "    },\n",
    "    {'$project': {\n",
    "                    'name': 1, 'family': 1, \n",
    "                    'deps._id': 1, 'deps.endpoint': 1, \n",
    "                    'nodes._id': 1, 'nodes.deps': 1, 'nodes.name': 1, 'nodes.family': 1, 'nodes.servers': 1\n",
    "                 }\n",
    "    }\n",
    "];\n",
    "\n",
    "jpipeline = json.dumps(pipeline)\n",
    "\n",
    "data = requests.post('http://%s/aggregate' % url, json={'entity': 'applications', 'pipeline': jpipeline})\n",
    "data = data.json()"
   ]
  },
  {
   "cell_type": "code",
   "execution_count": 55,
   "metadata": {
    "ExecuteTime": {
     "end_time": "2018-07-20T03:33:45.558359Z",
     "start_time": "2018-07-20T03:33:45.551763Z"
    }
   },
   "outputs": [
    {
     "data": {
      "text/plain": [
       "<networkx.classes.digraph.DiGraph at 0x10577def0>"
      ]
     },
     "execution_count": 55,
     "metadata": {},
     "output_type": "execute_result"
    }
   ],
   "source": [
    "import sys\n",
    "import os\n",
    "import numpy as np\n",
    "cwd = os.getcwd()\n",
    "spltted = cwd.split('/')[:-1]\n",
    "sys.path.append('/'.join(spltted))\n",
    "\n",
    "import networkx as nx\n",
    "from app.services.gridOrchestrator import GridOrchestrator\n",
    "from app.libs.network.baseNetwork import BaseNetwork\n",
    "from app.libs.histograms.histogram import Histogram\n",
    "from app.libs.histograms.grid import GridHistogram\n",
    "\n",
    "from svgwrite import Drawing\n",
    "\n",
    "network = BaseNetwork()\n",
    "network.make(data.get('items')).get_graph()"
   ]
  },
  {
   "cell_type": "code",
   "execution_count": 56,
   "metadata": {
    "ExecuteTime": {
     "end_time": "2018-07-20T03:33:45.572895Z",
     "start_time": "2018-07-20T03:33:45.561399Z"
    }
   },
   "outputs": [],
   "source": [
    "class DrawArea(object):\n",
    "    def __init__(self, off, size, max_x, max_y):\n",
    "        self._off = off\n",
    "        self._size = size\n",
    "        self._max_x = max_x\n",
    "        self._max_y = max_y\n",
    "\n",
    "    def area_x(self):\n",
    "        size_x = (self._size[0] / 2)\n",
    "        area_x = size_x * (self._max_x + self._max_y) * self._off[0]\n",
    "        \n",
    "        if self._off[0] > 1:\n",
    "            area_x = area_x - (size_x / self._off[0])\n",
    "        \n",
    "        return area_x\n",
    "    \n",
    "    def area_y(self):\n",
    "        size_y = (self._size[1] / 4)\n",
    "\n",
    "        area_y = (size_y * (self._max_x + (self._max_y -1 )) * self._off[1]) + (self._size[1])\n",
    "        return area_y\n",
    "    \n",
    "    def area(self):\n",
    "        area_x = self.area_x()\n",
    "        area_y = self.area_y()\n",
    "        return (area_x, area_y)\n",
    "\n",
    "    \n",
    "class Symbol(object):\n",
    "    \n",
    "    def __init__(self, draw=Drawing):\n",
    "        self.dwg = draw\n",
    "        self._s_basket = {}\n",
    "    \n",
    "    def create_symbol(self, name, objs, viewbox):\n",
    "        symbol = self.dwg.symbol(id=name)\n",
    "        self.dwg.defs.add(symbol)\n",
    "        \n",
    "        symbol.viewbox(*viewbox)\n",
    "        \n",
    "        for obj in objs:\n",
    "            symbol.add(obj)\n",
    "        \n",
    "        self._s_basket[name] = symbol\n",
    "    \n",
    "    def use_symbol(self, name, pos, opts={}):\n",
    "        syb = self._s_basket[name]\n",
    "        return self.dwg.use(syb, insert=pos, **opts)\n",
    "    \n",
    "    def square(self, pos, size, opts={}):\n",
    "        return self.dwg.rect(insert=pos, size=size, **opts)\n",
    "    \n",
    "    def polyne(self, points, opt={}):\n",
    "        return self.dwg.polyline(points=points, **opt)\n",
    "    \n",
    "    def text(self, title, pos, opt):\n",
    "        return self.dwg.text(title, insert=pos, **opt)\n",
    "    \n",
    "class SymbolApps(Symbol):\n",
    "    \n",
    "    def app(self, pos, title, size):\n",
    "        opts = {\n",
    "            'size': size\n",
    "        }\n",
    "\n",
    "        return self.use_symbol('grid', (pos[0], pos[1]+32), opts)\n"
   ]
  },
  {
   "cell_type": "code",
   "execution_count": 57,
   "metadata": {
    "ExecuteTime": {
     "end_time": "2018-07-20T03:33:45.581097Z",
     "start_time": "2018-07-20T03:33:45.576743Z"
    }
   },
   "outputs": [],
   "source": [
    "class SymbolApplications(object):\n",
    "    \n",
    "    def create():\n",
    "        pass"
   ]
  },
  {
   "cell_type": "code",
   "execution_count": 58,
   "metadata": {
    "ExecuteTime": {
     "end_time": "2018-07-20T03:33:45.600777Z",
     "start_time": "2018-07-20T03:33:45.583580Z"
    }
   },
   "outputs": [],
   "source": [
    "class MatrixRotation(object):\n",
    "    \n",
    "    def __init__(self, max_x, max_y, size, off):\n",
    "        self._off = off\n",
    "        self._size = size\n",
    "        \n",
    "        self._rect_y = (self._size[1] / 4) * max_x * self._off[1]\n",
    "\n",
    "    def cal_offy(self, x, y, size):\n",
    "        size_y = (self._size[1] * 0.5) / 2\n",
    "        return self._rect_y - (size_y * x * self._off[0]) + (size_y * y * self._off[1])\n",
    "    \n",
    "    def cal_offx(self, x, y, size):\n",
    "        size_x = self._size[0] / 2\n",
    "        return (size_x * y * self._off[1]) + (size_x * x * self._off[0])\n",
    "    \n",
    "class DrawTemplateSVG(object):\n",
    "    def __init__(self, max_x, max_y, darea=DrawArea, symbols=SymbolApps, matrix=MatrixRotation):\n",
    "        self._off = (1.4, 1.4)\n",
    "        self._size = (100, 120)\n",
    "\n",
    "        self._matrix = matrix(max_x, max_y, self._size, self._off)\n",
    "        self._area = darea(self._off, self._size, max_x, max_y).area()\n",
    "\n",
    "        self.dwg = Drawing('test.svg', size=self._area)\n",
    "        self._symbols = symbols(self.dwg)\n",
    "        \n",
    "        self.setup()\n",
    "    \n",
    "    def setup(self):\n",
    "        symbol = self._symbols.square((0,0), size=self._area, opts={'fill': \"#ededed\"})\n",
    "        self.add(symbol)\n",
    "        \n",
    "        obj = self._symbols.polyne([(133.2, 0),  (0, 78.16), (133.2, 156.32), (266.4, 78.16)], {'fill': \"#a0501a\"})\n",
    "        self._symbols.create_symbol('grid', [obj], (0, 0, 266.4, 156.32))\n",
    "    \n",
    "    def draw_app(self, pos, name, size):\n",
    "        pos = self.cal_off(pos, size)\n",
    "        \n",
    "        symbol = self._symbols.square(pos, self._size, {'fill': \"rgb(255, 255, 0)\", 'fill-opacity': '0.25'})\n",
    "        self.add(symbol)\n",
    "        \n",
    "        symbol = self._symbols.app(pos, name, self._size)\n",
    "        self.add(symbol)\n",
    "        \n",
    "\n",
    "    def cal_off(self, pos, size):\n",
    "        x = self._matrix.cal_offx(*pos, size)\n",
    "        y = self._matrix.cal_offy(*pos, size)\n",
    "        \n",
    "        return (x, y)\n",
    "\n",
    "    def add(self, symbol):\n",
    "        self.dwg.add(symbol)\n",
    "        \n",
    "    def save(self):\n",
    "        self.dwg.save()\n",
    "        return self.dwg.get_xml()\n",
    "\n",
    "\n",
    "class DrawLayout(object):\n",
    "    def __init__(self, grid, index, draw=DrawTemplateSVG):\n",
    "        \n",
    "        self._grid = grid\n",
    "        self._index = index\n",
    "        \n",
    "        self._max_x = max(self._grid, key=int)\n",
    "        self._max_y = max(self._grid[0], key=int)\n",
    "        \n",
    "        self.drawer = draw(self._max_x, self._max_y)\n",
    "\n",
    "    def draw_nodes(self):\n",
    "        \n",
    "        for col_k in range(self._max_x, -1, -1):\n",
    "            if col_k in self._grid:\n",
    "                columm = self._grid[col_k]\n",
    "                max_y = max(self._grid[col_k], key=int)\n",
    "            \n",
    "                for line_k in range(0, max_y):\n",
    "                    if line_k in self._grid[col_k]:\n",
    "                        \n",
    "                        label = self._grid[col_k][line_k]\n",
    "                    \n",
    "                        if label in self._index:\n",
    "                            item = self._index[label]\n",
    "                            name = item[3].get('name', '-')\n",
    "                            size = item[2]\n",
    "                        else:\n",
    "                            name = '-'\n",
    "                            size = 1\n",
    "\n",
    "                        name = \"%s / %s -- %s\" % (col_k, line_k, size)\n",
    "                        self.drawer.draw_app((col_k, line_k), name, size)\n",
    "        \n",
    "        return self\n",
    "    \n",
    "    def draw_connections(self, edges):\n",
    "        for edge in edges:\n",
    "            pos = []\n",
    "            w = []\n",
    "            size = []\n",
    "            \n",
    "            for i in range(2):\n",
    "                ipos = self._index[edge[i]]\n",
    "                pos.append(ipos)\n",
    "                w.append(ipos[0])\n",
    "                size.append(ipos[2])\n",
    "\n",
    "            #self.drawer.draw_connect(*pos, *w, *size)\n",
    "            \n",
    "        return self\n",
    "    \n",
    "    def save(self):\n",
    "        return self.drawer.save()"
   ]
  },
  {
   "cell_type": "code",
   "execution_count": 59,
   "metadata": {
    "ExecuteTime": {
     "end_time": "2018-07-20T03:33:45.647148Z",
     "start_time": "2018-07-20T03:33:45.604506Z"
    },
    "scrolled": false
   },
   "outputs": [
    {
     "name": "stdout",
     "output_type": "stream",
     "text": [
      "-------------------------\n"
     ]
    },
    {
     "data": {
      "image/svg+xml": [
       "<svg baseProfile=\"full\" height=\"834.0\" version=\"1.1\" width=\"1224.2857142857142\" xmlns=\"http://www.w3.org/2000/svg\" xmlns:ev=\"http://www.w3.org/2001/xml-events\" xmlns:xlink=\"http://www.w3.org/1999/xlink\"><defs><symbol id=\"grid\" viewBox=\"0,0,266.4,156.32\"><polyline fill=\"#a0501a\" points=\"133.2,0 0,78.16 133.2,156.32 266.4,78.16\"/></symbol></defs><rect fill=\"#ededed\" height=\"834.0\" width=\"1224.2857142857142\" x=\"0\" y=\"0\"/><rect fill=\"rgb(255, 255, 0)\" fill-opacity=\"0.25\" height=\"120\" width=\"100\" x=\"489.99999999999994\" y=\"0.0\"/><use height=\"120\" width=\"100\" x=\"489.99999999999994\" xlink:href=\"#grid\" y=\"32.0\"/><rect fill=\"rgb(255, 255, 0)\" fill-opacity=\"0.25\" height=\"120\" width=\"100\" x=\"560.0\" y=\"42.0\"/><use height=\"120\" width=\"100\" x=\"560.0\" xlink:href=\"#grid\" y=\"74.0\"/><rect fill=\"rgb(255, 255, 0)\" fill-opacity=\"0.25\" height=\"120\" width=\"100\" x=\"630.0\" y=\"84.0\"/><use height=\"120\" width=\"100\" x=\"630.0\" xlink:href=\"#grid\" y=\"116.0\"/><rect fill=\"rgb(255, 255, 0)\" fill-opacity=\"0.25\" height=\"120\" width=\"100\" x=\"420.0\" y=\"42.00000000000003\"/><use height=\"120\" width=\"100\" x=\"420.0\" xlink:href=\"#grid\" y=\"74.00000000000003\"/><rect fill=\"rgb(255, 255, 0)\" fill-opacity=\"0.25\" height=\"120\" width=\"100\" x=\"490.0\" y=\"84.00000000000003\"/><use height=\"120\" width=\"100\" x=\"490.0\" xlink:href=\"#grid\" y=\"116.00000000000003\"/><rect fill=\"rgb(255, 255, 0)\" fill-opacity=\"0.25\" height=\"120\" width=\"100\" x=\"560.0\" y=\"126.00000000000003\"/><use height=\"120\" width=\"100\" x=\"560.0\" xlink:href=\"#grid\" y=\"158.00000000000003\"/><rect fill=\"rgb(255, 255, 0)\" fill-opacity=\"0.25\" height=\"120\" width=\"100\" x=\"350.0\" y=\"84.0\"/><use height=\"120\" width=\"100\" x=\"350.0\" xlink:href=\"#grid\" y=\"116.0\"/><rect fill=\"rgb(255, 255, 0)\" fill-opacity=\"0.25\" height=\"120\" width=\"100\" x=\"420.0\" y=\"126.0\"/><use height=\"120\" width=\"100\" x=\"420.0\" xlink:href=\"#grid\" y=\"158.0\"/><rect fill=\"rgb(255, 255, 0)\" fill-opacity=\"0.25\" height=\"120\" width=\"100\" x=\"490.0\" y=\"168.0\"/><use height=\"120\" width=\"100\" x=\"490.0\" xlink:href=\"#grid\" y=\"200.0\"/><rect fill=\"rgb(255, 255, 0)\" fill-opacity=\"0.25\" height=\"120\" width=\"100\" x=\"560.0\" y=\"210.0\"/><use height=\"120\" width=\"100\" x=\"560.0\" xlink:href=\"#grid\" y=\"242.0\"/><rect fill=\"rgb(255, 255, 0)\" fill-opacity=\"0.25\" height=\"120\" width=\"100\" x=\"280.0\" y=\"126.0\"/><use height=\"120\" width=\"100\" x=\"280.0\" xlink:href=\"#grid\" y=\"158.0\"/><rect fill=\"rgb(255, 255, 0)\" fill-opacity=\"0.25\" height=\"120\" width=\"100\" x=\"350.0\" y=\"168.0\"/><use height=\"120\" width=\"100\" x=\"350.0\" xlink:href=\"#grid\" y=\"200.0\"/><rect fill=\"rgb(255, 255, 0)\" fill-opacity=\"0.25\" height=\"120\" width=\"100\" x=\"420.0\" y=\"210.0\"/><use height=\"120\" width=\"100\" x=\"420.0\" xlink:href=\"#grid\" y=\"242.0\"/><rect fill=\"rgb(255, 255, 0)\" fill-opacity=\"0.25\" height=\"120\" width=\"100\" x=\"490.0\" y=\"252.0\"/><use height=\"120\" width=\"100\" x=\"490.0\" xlink:href=\"#grid\" y=\"284.0\"/><rect fill=\"rgb(255, 255, 0)\" fill-opacity=\"0.25\" height=\"120\" width=\"100\" x=\"560.0\" y=\"294.0\"/><use height=\"120\" width=\"100\" x=\"560.0\" xlink:href=\"#grid\" y=\"326.0\"/><rect fill=\"rgb(255, 255, 0)\" fill-opacity=\"0.25\" height=\"120\" width=\"100\" x=\"630.0\" y=\"336.0\"/><use height=\"120\" width=\"100\" x=\"630.0\" xlink:href=\"#grid\" y=\"368.0\"/><rect fill=\"rgb(255, 255, 0)\" fill-opacity=\"0.25\" height=\"120\" width=\"100\" x=\"700.0\" y=\"378.0\"/><use height=\"120\" width=\"100\" x=\"700.0\" xlink:href=\"#grid\" y=\"410.0\"/><rect fill=\"rgb(255, 255, 0)\" fill-opacity=\"0.25\" height=\"120\" width=\"100\" x=\"770.0\" y=\"420.0\"/><use height=\"120\" width=\"100\" x=\"770.0\" xlink:href=\"#grid\" y=\"452.0\"/><rect fill=\"rgb(255, 255, 0)\" fill-opacity=\"0.25\" height=\"120\" width=\"100\" x=\"840.0\" y=\"462.0\"/><use height=\"120\" width=\"100\" x=\"840.0\" xlink:href=\"#grid\" y=\"494.0\"/><rect fill=\"rgb(255, 255, 0)\" fill-opacity=\"0.25\" height=\"120\" width=\"100\" x=\"980.0\" y=\"546.0\"/><use height=\"120\" width=\"100\" x=\"980.0\" xlink:href=\"#grid\" y=\"578.0\"/><rect fill=\"rgb(255, 255, 0)\" fill-opacity=\"0.25\" height=\"120\" width=\"100\" x=\"210.0\" y=\"168.0\"/><use height=\"120\" width=\"100\" x=\"210.0\" xlink:href=\"#grid\" y=\"200.0\"/><rect fill=\"rgb(255, 255, 0)\" fill-opacity=\"0.25\" height=\"120\" width=\"100\" x=\"280.0\" y=\"210.0\"/><use height=\"120\" width=\"100\" x=\"280.0\" xlink:href=\"#grid\" y=\"242.0\"/><rect fill=\"rgb(255, 255, 0)\" fill-opacity=\"0.25\" height=\"120\" width=\"100\" x=\"350.0\" y=\"252.0\"/><use height=\"120\" width=\"100\" x=\"350.0\" xlink:href=\"#grid\" y=\"284.0\"/><rect fill=\"rgb(255, 255, 0)\" fill-opacity=\"0.25\" height=\"120\" width=\"100\" x=\"420.0\" y=\"294.0\"/><use height=\"120\" width=\"100\" x=\"420.0\" xlink:href=\"#grid\" y=\"326.0\"/><rect fill=\"rgb(255, 255, 0)\" fill-opacity=\"0.25\" height=\"120\" width=\"100\" x=\"490.0\" y=\"336.0\"/><use height=\"120\" width=\"100\" x=\"490.0\" xlink:href=\"#grid\" y=\"368.0\"/><rect fill=\"rgb(255, 255, 0)\" fill-opacity=\"0.25\" height=\"120\" width=\"100\" x=\"560.0\" y=\"378.0\"/><use height=\"120\" width=\"100\" x=\"560.0\" xlink:href=\"#grid\" y=\"410.0\"/><rect fill=\"rgb(255, 255, 0)\" fill-opacity=\"0.25\" height=\"120\" width=\"100\" x=\"630.0\" y=\"420.0\"/><use height=\"120\" width=\"100\" x=\"630.0\" xlink:href=\"#grid\" y=\"452.0\"/><rect fill=\"rgb(255, 255, 0)\" fill-opacity=\"0.25\" height=\"120\" width=\"100\" x=\"700.0\" y=\"462.0\"/><use height=\"120\" width=\"100\" x=\"700.0\" xlink:href=\"#grid\" y=\"494.0\"/><rect fill=\"rgb(255, 255, 0)\" fill-opacity=\"0.25\" height=\"120\" width=\"100\" x=\"770.0\" y=\"504.0\"/><use height=\"120\" width=\"100\" x=\"770.0\" xlink:href=\"#grid\" y=\"536.0\"/><rect fill=\"rgb(255, 255, 0)\" fill-opacity=\"0.25\" height=\"120\" width=\"100\" x=\"910.0\" y=\"588.0\"/><use height=\"120\" width=\"100\" x=\"910.0\" xlink:href=\"#grid\" y=\"620.0\"/><rect fill=\"rgb(255, 255, 0)\" fill-opacity=\"0.25\" height=\"120\" width=\"100\" x=\"140.0\" y=\"210.0\"/><use height=\"120\" width=\"100\" x=\"140.0\" xlink:href=\"#grid\" y=\"242.0\"/><rect fill=\"rgb(255, 255, 0)\" fill-opacity=\"0.25\" height=\"120\" width=\"100\" x=\"210.0\" y=\"252.0\"/><use height=\"120\" width=\"100\" x=\"210.0\" xlink:href=\"#grid\" y=\"284.0\"/><rect fill=\"rgb(255, 255, 0)\" fill-opacity=\"0.25\" height=\"120\" width=\"100\" x=\"280.0\" y=\"294.0\"/><use height=\"120\" width=\"100\" x=\"280.0\" xlink:href=\"#grid\" y=\"326.0\"/><rect fill=\"rgb(255, 255, 0)\" fill-opacity=\"0.25\" height=\"120\" width=\"100\" x=\"350.0\" y=\"336.0\"/><use height=\"120\" width=\"100\" x=\"350.0\" xlink:href=\"#grid\" y=\"368.0\"/><rect fill=\"rgb(255, 255, 0)\" fill-opacity=\"0.25\" height=\"120\" width=\"100\" x=\"420.0\" y=\"378.0\"/><use height=\"120\" width=\"100\" x=\"420.0\" xlink:href=\"#grid\" y=\"410.0\"/><rect fill=\"rgb(255, 255, 0)\" fill-opacity=\"0.25\" height=\"120\" width=\"100\" x=\"490.0\" y=\"420.0\"/><use height=\"120\" width=\"100\" x=\"490.0\" xlink:href=\"#grid\" y=\"452.0\"/><rect fill=\"rgb(255, 255, 0)\" fill-opacity=\"0.25\" height=\"120\" width=\"100\" x=\"560.0\" y=\"462.0\"/><use height=\"120\" width=\"100\" x=\"560.0\" xlink:href=\"#grid\" y=\"494.0\"/><rect fill=\"rgb(255, 255, 0)\" fill-opacity=\"0.25\" height=\"120\" width=\"100\" x=\"630.0\" y=\"504.0\"/><use height=\"120\" width=\"100\" x=\"630.0\" xlink:href=\"#grid\" y=\"536.0\"/><rect fill=\"rgb(255, 255, 0)\" fill-opacity=\"0.25\" height=\"120\" width=\"100\" x=\"700.0\" y=\"546.0\"/><use height=\"120\" width=\"100\" x=\"700.0\" xlink:href=\"#grid\" y=\"578.0\"/><rect fill=\"rgb(255, 255, 0)\" fill-opacity=\"0.25\" height=\"120\" width=\"100\" x=\"770.0\" y=\"588.0\"/><use height=\"120\" width=\"100\" x=\"770.0\" xlink:href=\"#grid\" y=\"620.0\"/><rect fill=\"rgb(255, 255, 0)\" fill-opacity=\"0.25\" height=\"120\" width=\"100\" x=\"840.0\" y=\"630.0\"/><use height=\"120\" width=\"100\" x=\"840.0\" xlink:href=\"#grid\" y=\"662.0\"/><rect fill=\"rgb(255, 255, 0)\" fill-opacity=\"0.25\" height=\"120\" width=\"100\" x=\"70.0\" y=\"252.0\"/><use height=\"120\" width=\"100\" x=\"70.0\" xlink:href=\"#grid\" y=\"284.0\"/><rect fill=\"rgb(255, 255, 0)\" fill-opacity=\"0.25\" height=\"120\" width=\"100\" x=\"140.0\" y=\"294.0\"/><use height=\"120\" width=\"100\" x=\"140.0\" xlink:href=\"#grid\" y=\"326.0\"/><rect fill=\"rgb(255, 255, 0)\" fill-opacity=\"0.25\" height=\"120\" width=\"100\" x=\"210.0\" y=\"336.0\"/><use height=\"120\" width=\"100\" x=\"210.0\" xlink:href=\"#grid\" y=\"368.0\"/><rect fill=\"rgb(255, 255, 0)\" fill-opacity=\"0.25\" height=\"120\" width=\"100\" x=\"280.0\" y=\"378.0\"/><use height=\"120\" width=\"100\" x=\"280.0\" xlink:href=\"#grid\" y=\"410.0\"/><rect fill=\"rgb(255, 255, 0)\" fill-opacity=\"0.25\" height=\"120\" width=\"100\" x=\"350.0\" y=\"420.0\"/><use height=\"120\" width=\"100\" x=\"350.0\" xlink:href=\"#grid\" y=\"452.0\"/><rect fill=\"rgb(255, 255, 0)\" fill-opacity=\"0.25\" height=\"120\" width=\"100\" x=\"420.0\" y=\"462.0\"/><use height=\"120\" width=\"100\" x=\"420.0\" xlink:href=\"#grid\" y=\"494.0\"/><rect fill=\"rgb(255, 255, 0)\" fill-opacity=\"0.25\" height=\"120\" width=\"100\" x=\"490.0\" y=\"504.0\"/><use height=\"120\" width=\"100\" x=\"490.0\" xlink:href=\"#grid\" y=\"536.0\"/><rect fill=\"rgb(255, 255, 0)\" fill-opacity=\"0.25\" height=\"120\" width=\"100\" x=\"560.0\" y=\"546.0\"/><use height=\"120\" width=\"100\" x=\"560.0\" xlink:href=\"#grid\" y=\"578.0\"/><rect fill=\"rgb(255, 255, 0)\" fill-opacity=\"0.25\" height=\"120\" width=\"100\" x=\"630.0\" y=\"588.0\"/><use height=\"120\" width=\"100\" x=\"630.0\" xlink:href=\"#grid\" y=\"620.0\"/><rect fill=\"rgb(255, 255, 0)\" fill-opacity=\"0.25\" height=\"120\" width=\"100\" x=\"700.0\" y=\"630.0\"/><use height=\"120\" width=\"100\" x=\"700.0\" xlink:href=\"#grid\" y=\"662.0\"/><rect fill=\"rgb(255, 255, 0)\" fill-opacity=\"0.25\" height=\"120\" width=\"100\" x=\"770.0\" y=\"672.0\"/><use height=\"120\" width=\"100\" x=\"770.0\" xlink:href=\"#grid\" y=\"704.0\"/><rect fill=\"rgb(255, 255, 0)\" fill-opacity=\"0.25\" height=\"120\" width=\"100\" x=\"0.0\" y=\"294.0\"/><use height=\"120\" width=\"100\" x=\"0.0\" xlink:href=\"#grid\" y=\"326.0\"/><rect fill=\"rgb(255, 255, 0)\" fill-opacity=\"0.25\" height=\"120\" width=\"100\" x=\"70.0\" y=\"336.0\"/><use height=\"120\" width=\"100\" x=\"70.0\" xlink:href=\"#grid\" y=\"368.0\"/><rect fill=\"rgb(255, 255, 0)\" fill-opacity=\"0.25\" height=\"120\" width=\"100\" x=\"140.0\" y=\"378.0\"/><use height=\"120\" width=\"100\" x=\"140.0\" xlink:href=\"#grid\" y=\"410.0\"/><rect fill=\"rgb(255, 255, 0)\" fill-opacity=\"0.25\" height=\"120\" width=\"100\" x=\"210.0\" y=\"420.0\"/><use height=\"120\" width=\"100\" x=\"210.0\" xlink:href=\"#grid\" y=\"452.0\"/><rect fill=\"rgb(255, 255, 0)\" fill-opacity=\"0.25\" height=\"120\" width=\"100\" x=\"280.0\" y=\"462.0\"/><use height=\"120\" width=\"100\" x=\"280.0\" xlink:href=\"#grid\" y=\"494.0\"/><rect fill=\"rgb(255, 255, 0)\" fill-opacity=\"0.25\" height=\"120\" width=\"100\" x=\"350.0\" y=\"504.0\"/><use height=\"120\" width=\"100\" x=\"350.0\" xlink:href=\"#grid\" y=\"536.0\"/><rect fill=\"rgb(255, 255, 0)\" fill-opacity=\"0.25\" height=\"120\" width=\"100\" x=\"420.0\" y=\"546.0\"/><use height=\"120\" width=\"100\" x=\"420.0\" xlink:href=\"#grid\" y=\"578.0\"/><rect fill=\"rgb(255, 255, 0)\" fill-opacity=\"0.25\" height=\"120\" width=\"100\" x=\"489.99999999999994\" y=\"588.0\"/><use height=\"120\" width=\"100\" x=\"489.99999999999994\" xlink:href=\"#grid\" y=\"620.0\"/><rect fill=\"rgb(255, 255, 0)\" fill-opacity=\"0.25\" height=\"120\" width=\"100\" x=\"560.0\" y=\"630.0\"/><use height=\"120\" width=\"100\" x=\"560.0\" xlink:href=\"#grid\" y=\"662.0\"/><rect fill=\"rgb(255, 255, 0)\" fill-opacity=\"0.25\" height=\"120\" width=\"100\" x=\"630.0\" y=\"672.0\"/><use height=\"120\" width=\"100\" x=\"630.0\" xlink:href=\"#grid\" y=\"704.0\"/><rect fill=\"rgb(255, 255, 0)\" fill-opacity=\"0.25\" height=\"120\" width=\"100\" x=\"700.0\" y=\"714.0\"/><use height=\"120\" width=\"100\" x=\"700.0\" xlink:href=\"#grid\" y=\"746.0\"/></svg>"
      ],
      "text/plain": [
       "<IPython.core.display.SVG object>"
      ]
     },
     "metadata": {},
     "output_type": "display_data"
    }
   ],
   "source": [
    "from IPython.display import SVG, display\n",
    "\n",
    "print(\"-------------------------\")\n",
    "Orchestration = GridOrchestrator(network.graph)\n",
    "Orchestration.create(entries)\n",
    "\n",
    "Layout = DrawLayout(Orchestration.get_grid().get_grid(), Orchestration.get_grid().get_index())\n",
    "Layout.draw_nodes()\n",
    "Layout.draw_connections(network.graph.edges(data='endpoint'))\n",
    "Layout.save()\n",
    "   \n",
    "display(SVG(filename='test.svg'))"
   ]
  }
 ],
 "metadata": {
  "kernelspec": {
   "display_name": "an",
   "language": "python",
   "name": "an"
  },
  "language_info": {
   "codemirror_mode": {
    "name": "ipython",
    "version": 3
   },
   "file_extension": ".py",
   "mimetype": "text/x-python",
   "name": "python",
   "nbconvert_exporter": "python",
   "pygments_lexer": "ipython3",
   "version": "3.6.5"
  }
 },
 "nbformat": 4,
 "nbformat_minor": 2
}
